{
 "cells": [
  {
   "cell_type": "markdown",
   "metadata": {},
   "source": [
    "## Koch Snowflake Fractal Billiard Table"
   ]
  },
  {
   "cell_type": "markdown",
   "metadata": {},
   "source": [
    "### I. Koch Snowflake Generation"
   ]
  },
  {
   "cell_type": "code",
   "execution_count": 14,
   "metadata": {
    "ExecuteTime": {
     "end_time": "2018-10-22T09:21:29.718710Z",
     "start_time": "2018-10-22T09:21:29.267117Z"
    }
   },
   "outputs": [],
   "source": [
    "import numpy as np\n",
    "import matplotlib.pyplot as plt\n",
    "%matplotlib inline"
   ]
  },
  {
   "cell_type": "code",
   "execution_count": 15,
   "metadata": {
    "ExecuteTime": {
     "end_time": "2018-10-22T09:08:46.242559Z",
     "start_time": "2018-10-22T09:08:46.228737Z"
    }
   },
   "outputs": [],
   "source": [
    "def q2(p1,p2): #bisector\n",
    "\n",
    "    return ([(p1[0]+p2[0])/2,(p1[1]+p2[1])/2])"
   ]
  },
  {
   "cell_type": "code",
   "execution_count": 16,
   "metadata": {
    "ExecuteTime": {
     "end_time": "2018-10-22T09:08:46.321821Z",
     "start_time": "2018-10-22T09:08:46.249568Z"
    }
   },
   "outputs": [],
   "source": [
    "def q3(p1,p2): #trisector\n",
    "\n",
    "    return ([(p1[0]+p2[0])/3,(p1[1]+p2[1])/3])"
   ]
  },
  {
   "cell_type": "code",
   "execution_count": 17,
   "metadata": {
    "ExecuteTime": {
     "end_time": "2018-10-22T09:08:46.389110Z",
     "start_time": "2018-10-22T09:08:46.325809Z"
    }
   },
   "outputs": [],
   "source": [
    "def kochmore(p1,p2,n):\n",
    "    \n",
    "    #input two point of a line [p1,p2], and depth of koch n\n",
    "    #returns two points of line with length koched to depth n\n",
    "    \n",
    "    if n == 0:\n",
    "        return [p1,p2]\n",
    "    else:\n",
    "        p3 = q3(p1,p2)\n",
    "        p = kochmore(p1,p3,n-1)\n",
    "    \n",
    "    return p"
   ]
  },
  {
   "cell_type": "code",
   "execution_count": 18,
   "metadata": {
    "ExecuteTime": {
     "end_time": "2018-10-22T09:08:46.467221Z",
     "start_time": "2018-10-22T09:08:46.395104Z"
    }
   },
   "outputs": [],
   "source": [
    "def rotater(pn,po,an):  \n",
    "\n",
    "    # inputs point on function pn, point of rotation po, and angle of rotation an\n",
    "    # returns function rotated along po at angle an\n",
    "    \n",
    "    pt = np.empty(np.shape(pn))\n",
    "    for i in range(len(pt[:,0])):\n",
    "        pt[i,0] = (pn[i,0]-po[0])*np.cos(an) - (pn[i,1]-po[1])*np.sin(an) + po[0]\n",
    "        pt[i,1] = (pn[i,0]-po[0])*np.sin(an) + (pn[i,1]-po[1])*np.cos(an) + po[1]\n",
    "   \n",
    "    return pt"
   ]
  },
  {
   "cell_type": "code",
   "execution_count": 19,
   "metadata": {
    "ExecuteTime": {
     "end_time": "2018-10-22T09:08:46.527293Z",
     "start_time": "2018-10-22T09:08:46.468855Z"
    }
   },
   "outputs": [],
   "source": [
    "def angles(n):\n",
    "    \n",
    "    #input depth of koch n\n",
    "    #returns array of angles corresponding to each side\n",
    "    \n",
    "    z=[]\n",
    "    if n==0:\n",
    "        return []\n",
    "    if n==1:\n",
    "        z.extend( [1.0472,-2.0944,1.0472])\n",
    "    else:\n",
    "        for i in angles(n-1):\n",
    "            c = angles(1)\n",
    "            c.append(i)\n",
    "            z.extend(c)\n",
    "        z.extend(angles(1))\n",
    "\n",
    "    return z"
   ]
  },
  {
   "cell_type": "code",
   "execution_count": 20,
   "metadata": {
    "ExecuteTime": {
     "end_time": "2018-10-22T09:08:46.604189Z",
     "start_time": "2018-10-22T09:08:46.529283Z"
    }
   },
   "outputs": [],
   "source": [
    "def power(n):\n",
    "    \n",
    "    #input depth of koch n\n",
    "    #returns number of sides per side of base triangle\n",
    "    \n",
    "    if n==0:\n",
    "        return 1\n",
    "    else:\n",
    "        return power(n-1)*4"
   ]
  },
  {
   "cell_type": "code",
   "execution_count": 39,
   "metadata": {
    "ExecuteTime": {
     "end_time": "2018-10-22T11:09:57.137695Z",
     "start_time": "2018-10-22T11:09:57.131688Z"
    }
   },
   "outputs": [],
   "source": [
    "def general(a,b,n):\n",
    "    \n",
    "    #two points of a line corresponding to side of a triangle a and b, and depth of koch n\n",
    "    #retturns koch snowflake of depth (n)\n",
    "    \n",
    "    x = (kochmore(a,b,n))\n",
    "    \n",
    "    fin = [] + x\n",
    "    y = []\n",
    "    i = 1\n",
    "    while i <= power(n) * 3:\n",
    "        for k in angles(n) + [-2.0944]:\n",
    "            x = np.array(x)\n",
    "            if i % 2 == 0 or n == 0:\n",
    "                y = (rotater (x,x[len(x) - 1],k))\n",
    "            elif i % 2 == 1 :\n",
    "                y = rotater (x,x[0],k)\n",
    "                \n",
    "            dx = abs(x[len(x) - 1,0] - y[0,0])\n",
    "            dy = abs(x[len(x) - 1,1] - y[0,1])\n",
    "            \n",
    "            if y[0,0] > x[len(x)-1,0]:\n",
    "                y[:,0] = np.subtract(y[:,0],dx)\n",
    "            elif y[0,0] < x[len(x)-1,0]:\n",
    "                y[:,0] = np.add(y[:,0],dx)\n",
    "            \n",
    "            if y[0,1] > x[len(x)-1,1]:\n",
    "                y[:,1] = np.subtract(y[:,1],dy)\n",
    "            elif y[0,1] < x[len(x)-1,1]:\n",
    "                y[:,1] = np.add(y[:,1],dy)\n",
    "        \n",
    "            y = y.tolist()\n",
    "            fin = fin + y\n",
    "            i += 1\n",
    "\n",
    "            x = y\n",
    "\n",
    "\n",
    "    fin = np.array(fin)\n",
    "    plt.plot(fin[:,0],fin[:,1])\n",
    "    plt.savefig(\"Koch Snowflake n=\" +str(n))\n",
    "    plt.clf()\n",
    "    return fin"
   ]
  },
  {
   "cell_type": "markdown",
   "metadata": {},
   "source": [
    "### II. Particle path simulation in fractal"
   ]
  },
  {
   "cell_type": "code",
   "execution_count": 40,
   "metadata": {},
   "outputs": [],
   "source": [
    "def billiards(fin,th0):\n",
    "    x0,y0 = q2(fin[1],fin[3])\n",
    "    th = np.arctan((fin[1][1]-fin[3][1])/(fin[1][0]-fin[3][0]))-th0\n",
    "    bill = [[x0,y0]]\n",
    "\n",
    "    for z in range (20):\n",
    "        #print(z)\n",
    "        h = True\n",
    "        while h==True:\n",
    "            x0 += np.cos(th)\n",
    "            y0 += np.sin(th)\n",
    "            #print(y0-functions[3][0](x0))\n",
    "            for i in range(len(functions)-1):\n",
    "                if (x0 < functions[i][2] and x0 >functions[i][3]) or (x0 > functions[i][2] and x0 <functions[i][3]):\n",
    "                    if (abs(y0 - functions[i][0](x0)))<1:\n",
    "                        #print((abs(y0 - functions[i][0](x0))))\n",
    "                        bill.append([x0,y0])\n",
    "                        h=False\n",
    "                        break\n",
    "        bth = (np.arctan(functions[i][1])-th)*2\n",
    "        th += bth\n",
    "        #print(th,np.pi/3)\n",
    "    bill=np.array(bill)\n",
    "    plt.plot(fin[:,0],fin[:,1])\n",
    "    plt.plot(bill[:,0],bill[:,1])\n",
    "    plt.savefig(\"pi6 n=\" +str(n))"
   ]
  },
  {
   "cell_type": "markdown",
   "metadata": {},
   "source": [
    "### Main Function"
   ]
  },
  {
   "cell_type": "code",
   "execution_count": 41,
   "metadata": {
    "ExecuteTime": {
     "end_time": "2018-10-22T10:28:32.376515Z",
     "start_time": "2018-10-22T10:28:32.374514Z"
    }
   },
   "outputs": [],
   "source": [
    "## points of side triangle\n",
    "a = [0,0]\n",
    "b = [10000,0]"
   ]
  },
  {
   "cell_type": "code",
   "execution_count": 49,
   "metadata": {
    "ExecuteTime": {
     "end_time": "2018-10-22T11:09:59.844910Z",
     "start_time": "2018-10-22T11:09:59.363540Z"
    }
   },
   "outputs": [
    {
     "data": {
      "text/plain": [
       "<Figure size 432x288 with 0 Axes>"
      ]
     },
     "metadata": {},
     "output_type": "display_data"
    }
   ],
   "source": [
    "## MAIN\n",
    "n=1\n",
    "fin=general(a,b,n)    "
   ]
  },
  {
   "cell_type": "markdown",
   "metadata": {},
   "source": [
    "th = -np.pi/3\n",
    "bill = []\n",
    "x0,y0 = q2(fin[0],fin[1])\n",
    "for z in range (10):\n",
    "    while True:\n",
    "        x0 += np.cos(th)\n",
    "        y0 += np.sin(th)\n",
    "        #print(y0,functions[3][0](x0))\n",
    "        if y0 == (functions[i][0](x0) for i in range(len(functions)-1)):\n",
    "            bill.append([x0,y0])\n",
    "            break\n",
    "    th = np.arctan(functions[i][1])"
   ]
  },
  {
   "cell_type": "code",
   "execution_count": 51,
   "metadata": {
    "ExecuteTime": {
     "end_time": "2018-10-22T11:11:10.790859Z",
     "start_time": "2018-10-22T11:10:59.061461Z"
    }
   },
   "outputs": [
    {
     "data": {
      "image/png": "[encoded data removed]",
      "text/plain": [
       "<Figure size 432x288 with 1 Axes>"
      ]
     },
     "metadata": {
      "needs_background": "light"
     },
     "output_type": "display_data"
    }
   ],
   "source": [
    "th0 = np.pi/2 #initial theta\n",
    "billiards(fin,th0)"
   ]
  }
 ],
 "metadata": {
  "kernelspec": {
   "display_name": "Python 3",
   "language": "python",
   "name": "python3"
  },
  "language_info": {
   "codemirror_mode": {
    "name": "ipython",
    "version": 3
   },
   "file_extension": ".py",
   "mimetype": "text/x-python",
   "name": "python",
   "nbconvert_exporter": "python",
   "pygments_lexer": "ipython3",
   "version": "3.7.4"
  },
  "latex_envs": {
   "LaTeX_envs_menu_present": true,
   "autoclose": true,
   "autocomplete": true,
   "bibliofile": "biblio.bib",
   "cite_by": "apalike",
   "current_citInitial": 1,
   "eqLabelWithNumbers": true,
   "eqNumInitial": 1,
   "hotkeys": {
    "equation": "Ctrl-E",
    "itemize": "Ctrl-I"
   },
   "labels_anchors": false,
   "latex_user_defs": false,
   "report_style_numbering": false,
   "user_envs_cfg": false
  },
  "varInspector": {
   "cols": {
    "lenName": 16,
    "lenType": 16,
    "lenVar": 40
   },
   "kernels_config": {
    "python": {
     "delete_cmd_postfix": "",
     "delete_cmd_prefix": "del ",
     "library": "var_list.py",
     "varRefreshCmd": "print(var_dic_list())"
    },
    "r": {
     "delete_cmd_postfix": ") ",
     "delete_cmd_prefix": "rm(",
     "library": "var_list.r",
     "varRefreshCmd": "cat(var_dic_list()) "
    }
   },
   "types_to_exclude": [
    "module",
    "function",
    "builtin_function_or_method",
    "instance",
    "_Feature"
   ],
   "window_display": false
  }
 },
 "nbformat": 4,
 "nbformat_minor": 2
}
