{
 "cells": [
  {
   "cell_type": "markdown",
   "metadata": {},
   "source": [
    "### Koch Snowflake"
   ]
  },
  {
   "cell_type": "code",
   "execution_count": 1,
   "metadata": {},
   "outputs": [
    {
     "name": "stdout",
     "output_type": "stream",
     "text": [
      "Using matplotlib backend: MacOSX\n"
     ]
    }
   ],
   "source": [
    "import numpy as np\n",
    "import matplotlib.pyplot as plt\n",
    "%matplotlib auto"
   ]
  },
  {
   "cell_type": "code",
   "execution_count": 2,
   "metadata": {},
   "outputs": [],
   "source": [
    "def q3(p1,p2): #trisector\n",
    "\n",
    "    return ([(p1[0]+p2[0])/3,(p1[1]+p2[1])/3])"
   ]
  },
  {
   "cell_type": "code",
   "execution_count": 3,
   "metadata": {},
   "outputs": [],
   "source": [
    "def kochmore(p1,p2,n):\n",
    "    \n",
    "    #input two point of a line [p1,p2], and depth of koch n\n",
    "    #returns two points of line with length koched to depth n\n",
    "    \n",
    "    if n == 0:\n",
    "        return [p1,p2]\n",
    "    else:\n",
    "        p3 = q3(p1,p2)\n",
    "        p = kochmore(p1,p3,n-1)\n",
    "    \n",
    "    return p"
   ]
  },
  {
   "cell_type": "code",
   "execution_count": 4,
   "metadata": {},
   "outputs": [],
   "source": [
    "def rotater(pn,po,an):  \n",
    "\n",
    "    # inputs point on function pn, point of rotation po, and angle of rotation an\n",
    "    # returns function rotated along po at angle an\n",
    "    \n",
    "    pt = np.empty(np.shape(pn))\n",
    "    for i in range(len(pt[:,0])):\n",
    "        pt[i,0] = (pn[i,0]-po[0])*np.cos(an) - (pn[i,1]-po[1])*np.sin(an) + po[0]\n",
    "        pt[i,1] = (pn[i,0]-po[0])*np.sin(an) + (pn[i,1]-po[1])*np.cos(an) + po[1]\n",
    "   \n",
    "    return pt"
   ]
  },
  {
   "cell_type": "code",
   "execution_count": 5,
   "metadata": {},
   "outputs": [],
   "source": [
    "def angles(n):\n",
    "    \n",
    "    #input depth of koch n\n",
    "    #returns array of angles corresponding to each side\n",
    "    \n",
    "    z=[]\n",
    "    if n==0:\n",
    "        return []\n",
    "    if n==1:\n",
    "        z.extend( [1.0472,-2.0944,1.0472])\n",
    "    else:\n",
    "        for i in angles(n-1):\n",
    "            c = angles(1)\n",
    "            c.append(i)\n",
    "            z.extend(c)\n",
    "        z.extend(angles(1))\n",
    "\n",
    "    return z"
   ]
  },
  {
   "cell_type": "code",
   "execution_count": 6,
   "metadata": {},
   "outputs": [],
   "source": [
    "def power(n):\n",
    "    \n",
    "    #input depth of koch n\n",
    "    #returns number of sides per side of base triangle\n",
    "    \n",
    "    if n==0:\n",
    "        return 1\n",
    "    else:\n",
    "        return power(n-1)*4"
   ]
  },
  {
   "cell_type": "code",
   "execution_count": 7,
   "metadata": {},
   "outputs": [],
   "source": [
    "def general(a,b,n):\n",
    "    \n",
    "    #two points of a line corresponding to side of a triangle a and b, and depth of koch n\n",
    "    #retturns koch snowflake of depth (n)\n",
    "    \n",
    "    x = (kochmore(a,b,n))\n",
    "    \n",
    "    fin = [] + x\n",
    "    y = []\n",
    "    i = 1\n",
    "    while i <= power(n) * 3:\n",
    "        for k in angles(n) + [-2.0944]:\n",
    "            x = np.array(x)\n",
    "            if i % 2 == 0 or n == 0:\n",
    "                y = (rotater (x,x[len(x) - 1],k))\n",
    "            elif i % 2 == 1 :\n",
    "                y = rotater (x,x[0],k)\n",
    "                \n",
    "            dx = abs(x[len(x) - 1,0] - y[0,0])\n",
    "            dy = abs(x[len(x) - 1,1] - y[0,1])\n",
    "            \n",
    "            if y[0,0] > x[len(x)-1,0]:\n",
    "                y[:,0] = np.subtract(y[:,0],dx)\n",
    "            elif y[0,0] < x[len(x)-1,0]:\n",
    "                y[:,0] = np.add(y[:,0],dx)\n",
    "            \n",
    "            if y[0,1] > x[len(x)-1,1]:\n",
    "                y[:,1] = np.subtract(y[:,1],dy)\n",
    "            elif y[0,1] < x[len(x)-1,1]:\n",
    "                y[:,1] = np.add(y[:,1],dy)\n",
    "        \n",
    "            y = y.tolist()\n",
    "            fin = fin + y\n",
    "            i += 1\n",
    "\n",
    "            x = y\n",
    "\n",
    "\n",
    "    fin = np.array(fin)\n",
    "    plt.plot(fin[:,0],fin[:,1])\n",
    "    plt.show()          "
   ]
  },
  {
   "cell_type": "code",
   "execution_count": 8,
   "metadata": {},
   "outputs": [],
   "source": [
    "## points of side triangle\n",
    "a = [0,0]\n",
    "b = [0,100]"
   ]
  },
  {
   "cell_type": "code",
   "execution_count": 16,
   "metadata": {},
   "outputs": [
    {
     "data": {
      "image/png": "[encoded data removed]",
      "text/plain": [
       "<Figure size 432x288 with 1 Axes>"
      ]
     },
     "metadata": {
      "needs_background": "light"
     },
     "output_type": "display_data"
    }
   ],
   "source": [
    "## MAIN\n",
    "n = 1\n",
    "general(a,b,n)    "
   ]
  }
 ],
 "metadata": {
  "kernelspec": {
   "display_name": "Python 3",
   "language": "python",
   "name": "python3"
  },
  "language_info": {
   "codemirror_mode": {
    "name": "ipython",
    "version": 3
   },
   "file_extension": ".py",
   "mimetype": "text/x-python",
   "name": "python",
   "nbconvert_exporter": "python",
   "pygments_lexer": "ipython3",
   "version": "3.7.4"
  }
 },
 "nbformat": 4,
 "nbformat_minor": 2
}
